{
 "cells": [
  {
   "cell_type": "code",
   "execution_count": 77,
   "metadata": {
    "collapsed": true
   },
   "outputs": [],
   "source": [
    "import numpy as np"
   ]
  },
  {
   "cell_type": "code",
   "execution_count": 78,
   "metadata": {
    "collapsed": false
   },
   "outputs": [
    {
     "data": {
      "text/plain": [
       "array([[[ 0,  1,  2,  3],\n",
       "        [ 4,  5,  6,  7],\n",
       "        [ 8,  9, 10, 11]],\n",
       "\n",
       "       [[12, 13, 14, 15],\n",
       "        [16, 17, 18, 19],\n",
       "        [20, 21, 22, 23]],\n",
       "\n",
       "       [[24, 25, 26, 27],\n",
       "        [28, 29, 30, 31],\n",
       "        [32, 33, 34, 35]],\n",
       "\n",
       "       [[36, 37, 38, 39],\n",
       "        [40, 41, 42, 43],\n",
       "        [44, 45, 46, 47]]])"
      ]
     },
     "execution_count": 78,
     "metadata": {},
     "output_type": "execute_result"
    }
   ],
   "source": [
    "# Initialize transition matrix\n",
    "num_states = 4\n",
    "num_actions = 3\n",
    "num_hallucinations = 8\n",
    "T = np.arange(num_states * num_actions * num_states).reshape(num_states, num_actions, num_states)\n",
    "T"
   ]
  },
  {
   "cell_type": "code",
   "execution_count": 79,
   "metadata": {
    "collapsed": false
   },
   "outputs": [
    {
     "data": {
      "text/plain": [
       "array([[[  6],\n",
       "        [ 22],\n",
       "        [ 38]],\n",
       "\n",
       "       [[ 54],\n",
       "        [ 70],\n",
       "        [ 86]],\n",
       "\n",
       "       [[102],\n",
       "        [118],\n",
       "        [134]],\n",
       "\n",
       "       [[150],\n",
       "        [166],\n",
       "        [182]]])"
      ]
     },
     "execution_count": 79,
     "metadata": {},
     "output_type": "execute_result"
    }
   ],
   "source": [
    "normalizer = np.sum(T, axis=2, keepdims=True)\n",
    "normalizer"
   ]
  },
  {
   "cell_type": "code",
   "execution_count": 80,
   "metadata": {
    "collapsed": false
   },
   "outputs": [
    {
     "data": {
      "text/plain": [
       "array([[[ 0.        ,  0.16666667,  0.33333333,  0.5       ],\n",
       "        [ 0.18181818,  0.22727273,  0.27272727,  0.31818182],\n",
       "        [ 0.21052632,  0.23684211,  0.26315789,  0.28947368]],\n",
       "\n",
       "       [[ 0.22222222,  0.24074074,  0.25925926,  0.27777778],\n",
       "        [ 0.22857143,  0.24285714,  0.25714286,  0.27142857],\n",
       "        [ 0.23255814,  0.24418605,  0.25581395,  0.26744186]],\n",
       "\n",
       "       [[ 0.23529412,  0.24509804,  0.25490196,  0.26470588],\n",
       "        [ 0.23728814,  0.24576271,  0.25423729,  0.26271186],\n",
       "        [ 0.23880597,  0.24626866,  0.25373134,  0.26119403]],\n",
       "\n",
       "       [[ 0.24      ,  0.24666667,  0.25333333,  0.26      ],\n",
       "        [ 0.24096386,  0.24698795,  0.25301205,  0.25903614],\n",
       "        [ 0.24175824,  0.24725275,  0.25274725,  0.25824176]]])"
      ]
     },
     "execution_count": 80,
     "metadata": {},
     "output_type": "execute_result"
    }
   ],
   "source": [
    "# Compute normalized T where each row sums to one\n",
    "T_n = T/normalizer\n",
    "T_n"
   ]
  },
  {
   "cell_type": "code",
   "execution_count": 81,
   "metadata": {
    "collapsed": false
   },
   "outputs": [
    {
     "data": {
      "text/plain": [
       "array([[[ 0.        ,  0.16666667,  0.5       ,  1.        ],\n",
       "        [ 0.18181818,  0.40909091,  0.68181818,  1.        ],\n",
       "        [ 0.21052632,  0.44736842,  0.71052632,  1.        ]],\n",
       "\n",
       "       [[ 0.22222222,  0.46296296,  0.72222222,  1.        ],\n",
       "        [ 0.22857143,  0.47142857,  0.72857143,  1.        ],\n",
       "        [ 0.23255814,  0.47674419,  0.73255814,  1.        ]],\n",
       "\n",
       "       [[ 0.23529412,  0.48039216,  0.73529412,  1.        ],\n",
       "        [ 0.23728814,  0.48305085,  0.73728814,  1.        ],\n",
       "        [ 0.23880597,  0.48507463,  0.73880597,  1.        ]],\n",
       "\n",
       "       [[ 0.24      ,  0.48666667,  0.74      ,  1.        ],\n",
       "        [ 0.24096386,  0.48795181,  0.74096386,  1.        ],\n",
       "        [ 0.24175824,  0.48901099,  0.74175824,  1.        ]]])"
      ]
     },
     "execution_count": 81,
     "metadata": {},
     "output_type": "execute_result"
    }
   ],
   "source": [
    "# Compute cumulative sums over each entry in each row of T_n\n",
    "T_cumsum = np.cumsum(T_n, axis=2)\n",
    "T_cumsum"
   ]
  },
  {
   "cell_type": "code",
   "execution_count": 82,
   "metadata": {
    "collapsed": false
   },
   "outputs": [
    {
     "data": {
      "text/plain": [
       "array([3, 3, 2, 0, 3, 3, 2, 3])"
      ]
     },
     "execution_count": 82,
     "metadata": {},
     "output_type": "execute_result"
    }
   ],
   "source": [
    "# Pre-generate random state index array\n",
    "S = np.random.randint(num_states, size=num_hallucinations)\n",
    "S"
   ]
  },
  {
   "cell_type": "code",
   "execution_count": 83,
   "metadata": {
    "collapsed": false
   },
   "outputs": [
    {
     "data": {
      "text/plain": [
       "array([2, 1, 2, 2, 2, 0, 1, 1])"
      ]
     },
     "execution_count": 83,
     "metadata": {},
     "output_type": "execute_result"
    }
   ],
   "source": [
    "# Pre-generate random action index array\n",
    "A = np.random.randint(num_actions, size=num_hallucinations)\n",
    "A"
   ]
  },
  {
   "cell_type": "code",
   "execution_count": 84,
   "metadata": {
    "collapsed": false
   },
   "outputs": [
    {
     "data": {
      "text/plain": [
       "array([[[ 0.24      ,  0.48666667,  0.74      ,  1.        ],\n",
       "        [ 0.24096386,  0.48795181,  0.74096386,  1.        ],\n",
       "        [ 0.24175824,  0.48901099,  0.74175824,  1.        ]],\n",
       "\n",
       "       [[ 0.24      ,  0.48666667,  0.74      ,  1.        ],\n",
       "        [ 0.24096386,  0.48795181,  0.74096386,  1.        ],\n",
       "        [ 0.24175824,  0.48901099,  0.74175824,  1.        ]],\n",
       "\n",
       "       [[ 0.23529412,  0.48039216,  0.73529412,  1.        ],\n",
       "        [ 0.23728814,  0.48305085,  0.73728814,  1.        ],\n",
       "        [ 0.23880597,  0.48507463,  0.73880597,  1.        ]],\n",
       "\n",
       "       [[ 0.        ,  0.16666667,  0.5       ,  1.        ],\n",
       "        [ 0.18181818,  0.40909091,  0.68181818,  1.        ],\n",
       "        [ 0.21052632,  0.44736842,  0.71052632,  1.        ]],\n",
       "\n",
       "       [[ 0.24      ,  0.48666667,  0.74      ,  1.        ],\n",
       "        [ 0.24096386,  0.48795181,  0.74096386,  1.        ],\n",
       "        [ 0.24175824,  0.48901099,  0.74175824,  1.        ]],\n",
       "\n",
       "       [[ 0.24      ,  0.48666667,  0.74      ,  1.        ],\n",
       "        [ 0.24096386,  0.48795181,  0.74096386,  1.        ],\n",
       "        [ 0.24175824,  0.48901099,  0.74175824,  1.        ]],\n",
       "\n",
       "       [[ 0.23529412,  0.48039216,  0.73529412,  1.        ],\n",
       "        [ 0.23728814,  0.48305085,  0.73728814,  1.        ],\n",
       "        [ 0.23880597,  0.48507463,  0.73880597,  1.        ]],\n",
       "\n",
       "       [[ 0.24      ,  0.48666667,  0.74      ,  1.        ],\n",
       "        [ 0.24096386,  0.48795181,  0.74096386,  1.        ],\n",
       "        [ 0.24175824,  0.48901099,  0.74175824,  1.        ]]])"
      ]
     },
     "execution_count": 84,
     "metadata": {},
     "output_type": "execute_result"
    }
   ],
   "source": [
    "# Get random states by using S as an index array to T_cumsum\n",
    "random_state_T = T_cumsum[S]\n",
    "random_state_T"
   ]
  },
  {
   "cell_type": "code",
   "execution_count": 85,
   "metadata": {
    "collapsed": false
   },
   "outputs": [
    {
     "data": {
      "text/plain": [
       "array([[ 0.24175824,  0.48901099,  0.74175824,  1.        ],\n",
       "       [ 0.24096386,  0.48795181,  0.74096386,  1.        ],\n",
       "       [ 0.23880597,  0.48507463,  0.73880597,  1.        ],\n",
       "       [ 0.21052632,  0.44736842,  0.71052632,  1.        ],\n",
       "       [ 0.24175824,  0.48901099,  0.74175824,  1.        ],\n",
       "       [ 0.24      ,  0.48666667,  0.74      ,  1.        ],\n",
       "       [ 0.23728814,  0.48305085,  0.73728814,  1.        ],\n",
       "       [ 0.24096386,  0.48795181,  0.74096386,  1.        ]])"
      ]
     },
     "execution_count": 85,
     "metadata": {},
     "output_type": "execute_result"
    }
   ],
   "source": [
    "# Get random actions by using A as an index array to random_state_T\n",
    "# We want to index each random state so we use arange to index all rows in random_state_T\n",
    "random_action_T = random_state_T[np.arange(num_hallucinations), A]\n",
    "random_action_T"
   ]
  },
  {
   "cell_type": "code",
   "execution_count": 86,
   "metadata": {
    "collapsed": false
   },
   "outputs": [
    {
     "data": {
      "text/plain": [
       "array([[ 0.30257022],\n",
       "       [ 0.92192204],\n",
       "       [ 0.3301367 ],\n",
       "       [ 0.48714274],\n",
       "       [ 0.82256997],\n",
       "       [ 0.25315227],\n",
       "       [ 0.12019529],\n",
       "       [ 0.25365512]])"
      ]
     },
     "execution_count": 86,
     "metadata": {},
     "output_type": "execute_result"
    }
   ],
   "source": [
    "# Generate random samples of states to transition to as 2d array with one column\n",
    "# Each entry represents a random selection of the next state\n",
    "samples = np.random.random_sample(num_hallucinations).reshape(num_hallucinations, 1)\n",
    "samples"
   ]
  },
  {
   "cell_type": "code",
   "execution_count": 87,
   "metadata": {
    "collapsed": false
   },
   "outputs": [
    {
     "data": {
      "text/plain": [
       "array([[ True, False, False, False],\n",
       "       [ True,  True,  True, False],\n",
       "       [ True, False, False, False],\n",
       "       [ True,  True, False, False],\n",
       "       [ True,  True,  True, False],\n",
       "       [ True, False, False, False],\n",
       "       [False, False, False, False],\n",
       "       [ True, False, False, False]], dtype=bool)"
      ]
     },
     "execution_count": 87,
     "metadata": {},
     "output_type": "execute_result"
    }
   ],
   "source": [
    "# Create boolean array where random_action_T less than samples\n",
    "boolean_array = random_action_T < samples\n",
    "boolean_array"
   ]
  },
  {
   "cell_type": "code",
   "execution_count": 88,
   "metadata": {
    "collapsed": false
   },
   "outputs": [
    {
     "data": {
      "text/plain": [
       "array([1, 3, 1, 2, 3, 1, 0, 1])"
      ]
     },
     "execution_count": 88,
     "metadata": {},
     "output_type": "execute_result"
    }
   ],
   "source": [
    "# The boolean array represents the selection of the next state s' based on the probabilities.\n",
    "# The trick here is that booleans can be summed!  False = 0 and True = 1\n",
    "# The sums reprensent the index for each row which represents the next state s'.\n",
    "S_prime = boolean_array.sum(axis=1)\n",
    "S_prime"
   ]
  },
  {
   "cell_type": "code",
   "execution_count": 89,
   "metadata": {
    "collapsed": false
   },
   "outputs": [
    {
     "name": "stdout",
     "output_type": "stream",
     "text": [
      "[[ 0.24175824  0.24725275  0.25274725  0.25824176]\n",
      " [ 0.24096386  0.24698795  0.25301205  0.25903614]\n",
      " [ 0.23880597  0.24626866  0.25373134  0.26119403]\n",
      " [ 0.21052632  0.23684211  0.26315789  0.28947368]\n",
      " [ 0.24175824  0.24725275  0.25274725  0.25824176]\n",
      " [ 0.24        0.24666667  0.25333333  0.26      ]\n",
      " [ 0.23728814  0.24576271  0.25423729  0.26271186]\n",
      " [ 0.24096386  0.24698795  0.25301205  0.25903614]]\n",
      "[ 0.24175824  0.24725275  0.25274725  0.25824176]\n"
     ]
    }
   ],
   "source": [
    "# The other way would be to use np.random.choice\n",
    "# Problem 1:  np.random.choice is slow\n",
    "# Problem 2:  np.random.choice can't be vectorized.  \n",
    "#             You have to call random choice for each set of probabilities per transition.  This means a for loop!\n",
    "p = T[S, A] / T[S, A].sum(axis=1, keepdims=True)\n",
    "print(p)\n",
    "print(p[0])"
   ]
  },
  {
   "cell_type": "code",
   "execution_count": 90,
   "metadata": {
    "collapsed": false
   },
   "outputs": [
    {
     "data": {
      "text/plain": [
       "array([1, 2, 2, 3, 3, 0, 0, 2])"
      ]
     },
     "execution_count": 90,
     "metadata": {},
     "output_type": "execute_result"
    }
   ],
   "source": [
    "S_prime_alt =  np.zeros(num_hallucinations, dtype=int)\n",
    "for i in range(num_hallucinations):\n",
    "    S_prime_alt[i] =  np.random.choice(4, p=p[i])\n",
    "S_prime_alt"
   ]
  },
  {
   "cell_type": "code",
   "execution_count": null,
   "metadata": {
    "collapsed": true
   },
   "outputs": [],
   "source": [
    ""
   ]
  }
 ],
 "metadata": {
  "anaconda-cloud": {},
  "kernelspec": {
   "display_name": "Python [conda root]",
   "language": "python",
   "name": "conda-root-py"
  },
  "language_info": {
   "codemirror_mode": {
    "name": "ipython",
    "version": 3.0
   },
   "file_extension": ".py",
   "mimetype": "text/x-python",
   "name": "python",
   "nbconvert_exporter": "python",
   "pygments_lexer": "ipython3",
   "version": "3.5.2"
  }
 },
 "nbformat": 4,
 "nbformat_minor": 0
}